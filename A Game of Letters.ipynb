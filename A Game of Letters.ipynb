{
 "cells": [
  {
   "cell_type": "markdown",
   "metadata": {},
   "source": [
    "# A simple game made with Love, Numbers and Python \n",
    "\n",
    "### Rules \n",
    "- A player is given 5 to 10 Random Letters \n",
    "- The player has to provide the letters in the correct order \n",
    "- If the letters are in the appropriate order, the player Wins\n",
    "\n",
    "### Guidelines\n",
    "- You can use external libraries such as string and random \n",
    "- You should avoid duplicates when giving out letters (*Bonus*)\n"
   ]
  },
  {
   "cell_type": "code",
   "execution_count": 1,
   "metadata": {},
   "outputs": [],
   "source": [
    "import random, string"
   ]
  },
  {
   "cell_type": "code",
   "execution_count": 2,
   "metadata": {},
   "outputs": [],
   "source": [
    "alphabet = list(string.ascii_uppercase)"
   ]
  },
  {
   "cell_type": "code",
   "execution_count": 18,
   "metadata": {},
   "outputs": [
    {
     "name": "stdout",
     "output_type": "stream",
     "text": [
      "['B', 'S', 'U', 'N', 'S', 'I', 'R', 'L']\n"
     ]
    }
   ],
   "source": [
    "rand_l = random.choices(alphabet, k=random.randrange(5,10))\n",
    "print(rand_l)"
   ]
  },
  {
   "cell_type": "code",
   "execution_count": 19,
   "metadata": {},
   "outputs": [],
   "source": [
    "def setunique(rand_l): \n",
    "    counter = 0\n",
    "    uniques = []\n",
    "    while (counter < len(rand_l)): \n",
    "        if rand_l[counter] not in uniques: \n",
    "            uniques.append(rand_l[counter])\n",
    "        counter += 1\n",
    "    if len(uniques) < len(rand_l): \n",
    "        l2 = random.choice(alphabet) \n",
    "        if l2 not in uniques: \n",
    "            uniques.append(l2)\n",
    "    return uniques"
   ]
  },
  {
   "cell_type": "code",
   "execution_count": 20,
   "metadata": {},
   "outputs": [
    {
     "name": "stdout",
     "output_type": "stream",
     "text": [
      "['B', 'S', 'U', 'N', 'I', 'R', 'L']\n"
     ]
    }
   ],
   "source": [
    "print(setunique(rand_l))"
   ]
  },
  {
   "cell_type": "code",
   "execution_count": null,
   "metadata": {},
   "outputs": [],
   "source": []
  }
 ],
 "metadata": {
  "kernelspec": {
   "display_name": "Python 3",
   "language": "python",
   "name": "python3"
  },
  "language_info": {
   "codemirror_mode": {
    "name": "ipython",
    "version": 3
   },
   "file_extension": ".py",
   "mimetype": "text/x-python",
   "name": "python",
   "nbconvert_exporter": "python",
   "pygments_lexer": "ipython3",
   "version": "3.7.0"
  }
 },
 "nbformat": 4,
 "nbformat_minor": 2
}
